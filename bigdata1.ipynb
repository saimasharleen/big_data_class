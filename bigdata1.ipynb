{
  "nbformat": 4,
  "nbformat_minor": 0,
  "metadata": {
    "colab": {
      "provenance": []
    },
    "kernelspec": {
      "name": "python3",
      "display_name": "Python 3"
    },
    "language_info": {
      "name": "python"
    }
  },
  "cells": [
    {
      "cell_type": "code",
      "execution_count": 2,
      "metadata": {
        "id": "ISrY-N1pUgBz"
      },
      "outputs": [],
      "source": [
        "#given two integer numbers return their product only if the product is equal to or lower than 1000, else return their sum"
      ]
    },
    {
      "cell_type": "code",
      "source": [
        "n1 = int(input('Enter a number:')) \n",
        "n2 = int(input('Enter second number:')) \n",
        "def multiplication_or_sum(n1, n2):\n",
        "    # calculate product of two number\n",
        "    product = n1 * n2\n",
        "    # check if product is less then 1000\n",
        "    if product <= 1000:\n",
        "        return product\n",
        "    else:\n",
        "        # product is greater than 1000 calculate sum\n",
        "        return n1 + n2\n",
        "\n",
        "result = multiplication_or_sum(n1, n2)\n",
        "print(\"The result is\", result)"
      ],
      "metadata": {
        "colab": {
          "base_uri": "https://localhost:8080/"
        },
        "id": "vUXRVOp8bwkX",
        "outputId": "bd8afedd-0a3e-4bb3-8352-5b7347ed5e6c"
      },
      "execution_count": 3,
      "outputs": [
        {
          "output_type": "stream",
          "name": "stdout",
          "text": [
            "Enter a number:2004\n",
            "Enter second number:1\n",
            "The result is 2005\n"
          ]
        }
      ]
    },
    {
      "cell_type": "code",
      "source": [
        "#An extra day is added to the calendar almost every four years as february 29, and the day is called a leap day. It corrects the calendar for the fact that\n",
        "#our planet takes approximately 365.25 days to orbit the sun. A leap year contains a leap day. In the gregorian calendar, three conditions are used to identify leap years:\n",
        "# The year can be evenly divided by 4, is a leap year, unless:\n",
        "     #The year can be evenly divided by 100, it is not a leap year unless:\n",
        "         #the year is also evenly divisible by 400. Then it is a leap year.\n",
        "#this means that in the gregorian calendar, the years 2000 and 2400 are leap years, while 1800, 1900,2100,2200,2300, and 2500 are not leap years.\n",
        "#write a function that given a year return True if it is a leap year"
      ],
      "metadata": {
        "id": "KddWB9Bdapm8"
      },
      "execution_count": 4,
      "outputs": []
    },
    {
      "cell_type": "code",
      "source": [
        "# prompt the user to enter a year\n",
        "year = int(input(\"Enter the year: \"))\n",
        "    \n",
        "# creating the function\n",
        "def is_leap_year():\n",
        "    # variable to check the leap year\n",
        "    leap = False\n",
        "    \n",
        "    # using nested if statements\n",
        "    if (year % 4) == 0:\n",
        "        if (year % 100) == 0:\n",
        "            if (year % 400) == 0:\n",
        "                print(\"True\")\n",
        "            else:\n",
        "                print(\"False\")\n",
        "        else:\n",
        "            print(\"True\")\n",
        "    else:\n",
        "        print(\"False\")\n",
        "    \n",
        "    return leap\n"
      ],
      "metadata": {
        "colab": {
          "base_uri": "https://localhost:8080/"
        },
        "id": "Qx_KLmj_beKy",
        "outputId": "bc7cefb1-b34d-46ce-edb5-158c6aace268"
      },
      "execution_count": 5,
      "outputs": [
        {
          "name": "stdout",
          "output_type": "stream",
          "text": [
            "Enter the year: 2004\n"
          ]
        }
      ]
    },
    {
      "cell_type": "code",
      "source": [
        "# Write a function that given a number returns true if the number appears in the fibonacci sequence\n",
        "n =int(input(\"Enter the number: \"))\n",
        "c=0\n",
        "a=1\n",
        "b=1\n",
        "#If the input is 0 or 1 then it is the Fibonacci number and prints True. \n",
        "if n==0 or n==1:\n",
        "    print(\"True\")\n",
        "#Else the integer input will be compared with c because c is a Fibonacci number and it goes on by adding with its previous number and stops when c is not less than the integer input.\n",
        "else:\n",
        "    while c<n:\n",
        "        c=a+b\n",
        "        b=a\n",
        "        a=c\n",
        "    if c==n:\n",
        "        print(\"True\")\n",
        "    else:\n",
        "        print(\"False\")\n"
      ],
      "metadata": {
        "colab": {
          "base_uri": "https://localhost:8080/"
        },
        "id": "lXzQ7PhhePGS",
        "outputId": "bcbb6824-ab42-447b-fa6a-aaa385f77a26"
      },
      "execution_count": 6,
      "outputs": [
        {
          "output_type": "stream",
          "name": "stdout",
          "text": [
            "Enter the number: 12\n",
            "False\n"
          ]
        }
      ]
    },
    {
      "cell_type": "code",
      "source": [
        "def num_cakes():\n",
        "    # Get recipe from user input\n",
        "    recipe = {}\n",
        "    num_ingredients = int(input(\"How many ingredients are in the recipe? \"))\n",
        "    for i in range(num_ingredients):\n",
        "        ingredient = input(f\"Ingredient #{i+1}: \")\n",
        "        amount = int(input(f\"Amount of {ingredient}: \"))\n",
        "        recipe[ingredient] = amount\n",
        "\n",
        "    # Get pantry from user input\n",
        "    pantry = {}\n",
        "    num_items = int(input(\"How many items are in your pantry? \"))\n",
        "    for i in range(num_items):\n",
        "        item = input(f\"Item #{i+1}: \")\n",
        "        amount = int(input(f\"Amount of {item}: \"))\n",
        "        pantry[item] = amount\n",
        "\n",
        "    # Compute maximum number of cakes based on ingredients in pantry\n",
        "    num_cakes = float('inf')\n",
        "    for ingredient, amount in recipe.items():\n",
        "        if ingredient not in pantry:\n",
        "            return 0\n",
        "        num_cakes = min(num_cakes, pantry[ingredient] // amount)\n",
        "    return num_cakes\n",
        "print(num_cakes())"
      ],
      "metadata": {
        "colab": {
          "base_uri": "https://localhost:8080/"
        },
        "id": "KdAZZrTohNFP",
        "outputId": "c955818e-e2b9-4547-d7ea-9f3010577ac1"
      },
      "execution_count": 15,
      "outputs": [
        {
          "output_type": "stream",
          "name": "stdout",
          "text": [
            "How many ingredients are in the recipe? 3\n",
            "Ingredient #1: eggs\n",
            "Amount of eggs: 2\n",
            "Ingredient #2: flours\n",
            "Amount of flours: 200\n",
            "Ingredient #3: milk\n",
            "Amount of milk: 100\n",
            "How many items are in your pantry? 5\n",
            "Item #1: eggs\n",
            "Amount of eggs: 12\n",
            "Item #2: flour\n",
            "Amount of flour: 1000\n",
            "Item #3: milk\n",
            "Amount of milk: 250\n",
            "Item #4: apple\n",
            "Amount of apple: 2\n",
            "Item #5: sugar\n",
            "Amount of sugar: 850\n",
            "0\n"
          ]
        }
      ]
    },
    {
      "cell_type": "code",
      "source": [
        "#Write a function to compute 1/2+2/3+3/4+...+n/n+1 with a given n (n>0).\n",
        "\n",
        "#Example:\n",
        "#If the following n is given as input to the program:\n",
        "#5\n",
        "#Then, the output of the program should be:\n",
        "#3.55\n",
        "def sum_fraction(n):\n",
        "    total = 0\n",
        "    for i in range(1, n+1):\n",
        "        total += i / (i+1)\n",
        "    return round(total, 2)\n",
        "\n",
        "n = int(input(\"Please enter a value for n: \"))\n",
        "print(sum_fraction(n))"
      ],
      "metadata": {
        "colab": {
          "base_uri": "https://localhost:8080/"
        },
        "id": "DJHvZzEMhnKw",
        "outputId": "c12b1069-2317-4125-d62e-98c5f479d925"
      },
      "execution_count": 12,
      "outputs": [
        {
          "output_type": "stream",
          "name": "stdout",
          "text": [
            "Please enter a value for n: 4\n",
            "2.72\n"
          ]
        }
      ]
    },
    {
      "cell_type": "code",
      "source": [
        "#Write a function that can generate a random odd number between 0 and 100\n",
        "import time\n",
        "\n",
        "def random_odd(min_value, max_value):\n",
        "    t = int(str(time.time()).replace(\".\", \"\")[-9:])\n",
        "    range_size = (max_value - min_value) // 2 + 1\n",
        "    return min_value + ((t % range_size) * 2 + 1)\n",
        "\n",
        "min_value = int(input(\"Enter the minimum value of the range (should be an odd number): \"))\n",
        "max_value = int(input(\"Enter the maximum value of the range (should be an odd number): \"))\n",
        "print(\"Random odd number between {} and {}: {}\".format(min_value, max_value, random_odd(min_value, max_value)))"
      ],
      "metadata": {
        "colab": {
          "base_uri": "https://localhost:8080/"
        },
        "id": "FbzNcFikht4t",
        "outputId": "f978be2d-429b-42a0-bef5-89faac706295"
      },
      "execution_count": 11,
      "outputs": [
        {
          "output_type": "stream",
          "name": "stdout",
          "text": [
            "Enter the minimum value of the range (should be an odd number): 1\n",
            "Enter the maximum value of the range (should be an odd number): 100\n",
            "Random odd number between 1 and 100: 36\n"
          ]
        }
      ]
    },
    {
      "cell_type": "code",
      "source": [
        "#Write a function which accepts a list and prints the elements that have even indexes."
      ],
      "metadata": {
        "id": "JPaYnZURl-vz"
      },
      "execution_count": null,
      "outputs": []
    },
    {
      "cell_type": "code",
      "source": [
        "#Write a program to solve a classic ancient Chinese puzzle: \n",
        "#We count 35 heads and 94 legs among the chickens and rabbits in a farm. How many rabbits and how many chickens do we have?\n",
        "def solve_puzzle(heads, legs):\n",
        "    # We have two equations:\n",
        "    # c + r = heads  (where c is the number of chickens and r is the number of rabbits)\n",
        "    # 2c + 4r = legs\n",
        "    \n",
        "    # Solving for c and r:\n",
        "    r = (legs - 2*heads) / 2\n",
        "    c = heads - r\n",
        "    \n",
        "    # Check if solution is valid\n",
        "    if r >= 0 and c >= 0 and r == int(r) and c == int(c):\n",
        "        return int(c), int(r)\n",
        "    else:\n",
        "        return None\n",
        "\n",
        "heads = int(input(\"Enter the number of heads: \"))\n",
        "legs = int(input(\"Enter the number of legs: \"))\n",
        "\n",
        "solution = solve_puzzle(heads, legs)\n",
        "\n",
        "if solution:\n",
        "    chickens, rabbits = solution\n",
        "    print(\"Number of chickens: {}\".format(chickens))\n",
        "    print(\"Number of rabbits: {}\".format(rabbits))\n",
        "else:\n",
        "    print(\"No valid solution found.\")\n"
      ],
      "metadata": {
        "colab": {
          "base_uri": "https://localhost:8080/"
        },
        "id": "WYOO-3NemCON",
        "outputId": "55bf69ca-c65f-443d-9fab-027e42cef7e6"
      },
      "execution_count": 10,
      "outputs": [
        {
          "output_type": "stream",
          "name": "stdout",
          "text": [
            "Enter the number of heads: 35\n",
            "Enter the number of legs: 94\n",
            "Number of chickens: 23\n",
            "Number of rabbits: 12\n"
          ]
        }
      ]
    },
    {
      "cell_type": "code",
      "source": [
        "#Upgrade the last program in order to take as input the number of heads and legs. Then:\n",
        "#Let the user know if a solution exists, If solution exists, print the solution\n",
        "def solve_puzzle(heads, legs):\n",
        "    # We have two equations:\n",
        "    # c + r = heads  (where c is the number of chickens and r is the number of rabbits)\n",
        "    # 2c + 4r = legs\n",
        "    \n",
        "    # Solving for c and r:\n",
        "    r = (legs - 2*heads) / 2\n",
        "    c = heads - r\n",
        "    \n",
        "    # Check if solution is valid\n",
        "    if r >= 0 and c >= 0 and r == int(r) and c == int(c):\n",
        "        return int(c), int(r)\n",
        "    else:\n",
        "        return None\n",
        "\n",
        "# Take user input for number of heads and legs\n",
        "heads = int(input(\"Enter the number of heads: \"))\n",
        "legs = int(input(\"Enter the number of legs: \"))\n",
        "\n",
        "# Solve the puzzle\n",
        "solution = solve_puzzle(heads, legs)\n",
        "\n",
        "# Check if a solution exists\n",
        "if solution is None:\n",
        "    print(\"No solution exists.\")\n",
        "else:\n",
        "    # Print the solution\n",
        "    chickens, rabbits = solution\n",
        "    print(\"Number of chickens: {}\".format(chickens))\n",
        "    print(\"Number of rabbits: {}\".format(rabbits))\n"
      ],
      "metadata": {
        "colab": {
          "base_uri": "https://localhost:8080/"
        },
        "id": "rRZFCfctmLLI",
        "outputId": "8fd8fb7e-23bc-49a2-fc9a-6bfe852efabd"
      },
      "execution_count": 16,
      "outputs": [
        {
          "output_type": "stream",
          "name": "stdout",
          "text": [
            "Enter the number of heads: 35\n",
            "Enter the number of legs: 94\n",
            "Number of chickens: 23\n",
            "Number of rabbits: 12\n"
          ]
        }
      ]
    },
    {
      "cell_type": "code",
      "source": [
        "# In cryptography, a Caesar cipher is one of the simplest and most widely known encryption techniques. It is a type of substitution cipher in which each letter in the plaintext is replaced by a letter some fixed number of positions down the alphabet\n",
        "#Write a function that, given a string s and a number n, encrypts the strings using a Caesar cipher with a shift of n\n",
        "def caesar_cipher(s, n):\n",
        "    # Create a mapping from each letter to its shifted counterpart\n",
        "    alphabet = 'abcdefghijklmnopqrstuvwxyz'\n",
        "    mapping = {}\n",
        "    for i in range(len(alphabet)):\n",
        "        mapping[alphabet[i]] = alphabet[(i + n) % len(alphabet)]\n",
        "    \n",
        "    # Encrypt the string by replacing each letter with its shifted counterpart\n",
        "    encrypted = ''\n",
        "    for letter in s:\n",
        "        if letter.lower() in alphabet:\n",
        "            if letter.isupper():\n",
        "                encrypted += mapping[letter.lower()].upper()\n",
        "            else:\n",
        "                encrypted += mapping[letter]\n",
        "        else:\n",
        "            encrypted += letter\n",
        "    \n",
        "    return encrypted\n",
        "s = input(\"Enter a string to encrypt: \")\n",
        "n = int(input(\"Enter the shift: \"))\n",
        "encrypted = caesar_cipher(s, n)\n",
        "print(\"Encrypted string:\", encrypted)\n"
      ],
      "metadata": {
        "colab": {
          "base_uri": "https://localhost:8080/"
        },
        "id": "I7RN-xhAmP4q",
        "outputId": "a1176b8f-d91c-45d2-8acd-995b96a1feb4"
      },
      "execution_count": 17,
      "outputs": [
        {
          "output_type": "stream",
          "name": "stdout",
          "text": [
            "Enter a string to encrypt: iuitggdigwid\n",
            "Enter the shift: 2\n",
            "Encrypted string: kwkviifkiykf\n"
          ]
        }
      ]
    },
    {
      "cell_type": "code",
      "source": [
        "#A rolling cipher is a primitive form of substitution encryption which uses a rolling key. \n",
        "#Like the Caesar cipher, each letter is shifted forward along the alphabet, looping back around the beginning of alphabet as needed. \n",
        "#However, while the Caesar cipher uses a fixed value to shift all of the letters in the message the same amount, a rolling cipher uses an incrementing value to make it harder to crack it.\n",
        "#Write the fibonaci_cipher function which encrypts a string using the fibonacci sequence for the shift values\n",
        "def fibonacci_cipher(s):\n",
        "    # Create a mapping from each letter to its shifted counterpart\n",
        "    alphabet = 'abcdefghijklmnopqrstuvwxyz'\n",
        "    mapping = {}\n",
        "    for i in range(len(alphabet)):\n",
        "        mapping[alphabet[i]] = [alphabet[(i + n) % len(alphabet)] for n in fibonacci_sequence()]\n",
        "    \n",
        "    # Encrypt the string by replacing each letter with its shifted counterpart\n",
        "    encrypted = ''\n",
        "    for i in range(len(s)):\n",
        "        letter = s[i]\n",
        "        if letter.lower() in alphabet:\n",
        "            if letter.isupper():\n",
        "                encrypted += mapping[letter.lower()][i % len(mapping[letter.lower()])].upper()\n",
        "            else:\n",
        "                encrypted += mapping[letter][i % len(mapping[letter])]\n",
        "\n",
        "        else:\n",
        "            encrypted += letter\n",
        "    \n",
        "    return encrypted\n",
        "\n",
        "def fibonacci_sequence():\n",
        "    # Generate the Fibonacci sequence up to 26 (the length of the alphabet)\n",
        "    a, b = 0, 1\n",
        "    while b < 26:\n",
        "        yield b\n",
        "        a, b = b, a + b\n",
        "s = input(\"Enter a string to encrypt: \")\n",
        "encrypted = fibonacci_cipher(s)\n",
        "print(\"Encrypted string:\", encrypted)\n",
        "\n"
      ],
      "metadata": {
        "colab": {
          "base_uri": "https://localhost:8080/"
        },
        "id": "YHjhg4SOmUEL",
        "outputId": "ec87c633-ec95-46fb-f50f-90b5a0b8f479"
      },
      "execution_count": 18,
      "outputs": [
        {
          "output_type": "stream",
          "name": "stdout",
          "text": [
            "Enter a string to encrypt: yoyophush phush\n",
            "Encrypted string: zparuphni rkzau\n"
          ]
        }
      ]
    }
  ]
}